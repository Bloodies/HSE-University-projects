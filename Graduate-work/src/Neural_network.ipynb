{
  "cells": [
    {
      "cell_type": "markdown",
      "metadata": {
        "id": "view-in-github",
        "colab_type": "text"
      },
      "source": [
        "<a href=\"https://colab.research.google.com/github/Bloodies/HSE-University-projects/blob/Bloodies/Graduate-work/src/Neural_network.ipynb\" target=\"_parent\"><img src=\"https://colab.research.google.com/assets/colab-badge.svg\" alt=\"Open In Colab\"/></a>"
      ]
    },
    {
      "cell_type": "code",
      "execution_count": null,
      "metadata": {
        "id": "m5DzH3l2fF_v"
      },
      "outputs": [],
      "source": [
        "import keras\n",
        "import matplotlib\n",
        "import numpy\n",
        "import os\n",
        "import pandas\n",
        "import tensorflow\n",
        "import matplotlib.pyplot as plt\n",
        "#подключаем керас\n",
        "from tensorflow.keras.models import Sequential\n",
        "from tensorflow.keras.layers import Dense\n",
        "from tensorflow.keras import utils\n",
        "from tensorflow.keras import optimizers\n",
        "# from tensorflow.keras.optimizers import Adam\n",
        "# from keras.layers import Dense, Flatten, DropoutWrapper, BatchNormalization\n",
        "# from keras.models import Sequential\n",
        "# from keras.utils import np_utils\n",
        "from math import sqrt\n",
        "from matplotlib.pyplot import figure\n",
        "from sklearn.metrics import mean_squared_error, median_absolute_error, mean_absolute_error, max_error, r2_score\n",
        "plt.style.use('ggplot')\n",
        "%matplotlib inline"
      ]
    },
    {
      "cell_type": "code",
      "execution_count": null,
      "metadata": {
        "id": "NhHnwI7TfOBX"
      },
      "outputs": [],
      "source": [
        "df_train = pandas.read_excel(\"datasetD1.xlsx\", sheet_name=\"DATA\")\n",
        "df_test = pandas.read_excel(\"datasetD1.xlsx\", sheet_name=\"TEST\")\n",
        "\n",
        "df_train = df_train.drop(0, axis=0)\n",
        "df_test = df_test.drop(0, axis=0)\n",
        "\n",
        "train = df_train.values\n",
        "test = df_test.values\n",
        "\n",
        "x_train = train[:, 0:11]\n",
        "y_train = train[:, 11]\n",
        "x_test = test[:, 0:11]\n",
        "y_test = test[:, 11]"
      ]
    },
    {
      "cell_type": "code",
      "execution_count": null,
      "metadata": {
        "id": "9-7PZOeA91p1"
      },
      "outputs": [],
      "source": [
        "data = pandas.DataFrame({'Бюджет': df_train['X11'], 'Кассовые сборы': df_train['D1']})\n",
        "ax = data[['Бюджет', 'Кассовые сборы']].plot(kind='box', title='boxplot')\n",
        "plt.show()"
      ]
    },
    {
      "cell_type": "code",
      "execution_count": null,
      "metadata": {
        "colab": {
          "base_uri": "https://localhost:8080/",
          "height": 524
        },
        "id": "h1Qq-qVrrISj",
        "outputId": "04fd72c7-dbc0-4e74-e2ac-348dd7535fef"
      },
      "outputs": [
        {
          "data": {
            "image/png": "[encoded data removed]",
            "text/plain": [
              "<Figure size 432x288 with 1 Axes>"
            ]
          },
          "metadata": {},
          "output_type": "display_data"
        },
        {
          "data": {
            "image/png": "[encoded data removed]",
            "text/plain": [
              "<Figure size 432x288 with 1 Axes>"
            ]
          },
          "metadata": {},
          "output_type": "display_data"
        }
      ],
      "source": [
        "df_train.boxplot('X11')\n",
        "plt.show()\n",
        "df_train.boxplot('D1')\n",
        "plt.show()"
      ]
    },
    {
      "cell_type": "code",
      "execution_count": null,
      "metadata": {
        "colab": {
          "base_uri": "https://localhost:8080/"
        },
        "id": "cddv9vQOSoPW",
        "outputId": "3cd9eeaa-0c74-4553-de3b-d7abe8b8e6e5"
      },
      "outputs": [
        {
          "name": "stdout",
          "output_type": "stream",
          "text": [
            "Epoch 1/100\n",
            "13/13 [==============================] - 0s 13ms/step - loss: 7441872322560.0000 - mae: 1648840.0000 - val_loss: 222136451072.0000 - val_mae: 365291.0625\n",
            "Epoch 2/100\n",
            "13/13 [==============================] - 0s 3ms/step - loss: 1027832807424.0000 - mae: 768819.6875 - val_loss: 406888218624.0000 - val_mae: 494382.6250\n",
            "Epoch 3/100\n",
            "13/13 [==============================] - 0s 3ms/step - loss: 135805263872.0000 - mae: 248516.0781 - val_loss: 149499297792.0000 - val_mae: 299653.9062\n",
            "Epoch 4/100\n",
            "13/13 [==============================] - 0s 3ms/step - loss: 83082969088.0000 - mae: 184908.5000 - val_loss: 6642873856.0000 - val_mae: 63178.4375\n",
            "Epoch 5/100\n",
            "13/13 [==============================] - 0s 3ms/step - loss: 17459017728.0000 - mae: 98675.5391 - val_loss: 1299540864.0000 - val_mae: 27949.8477\n",
            "Epoch 6/100\n",
            "13/13 [==============================] - 0s 3ms/step - loss: 2270882048.0000 - mae: 33435.5391 - val_loss: 1503923968.0000 - val_mae: 30044.9785\n",
            "Epoch 7/100\n",
            "13/13 [==============================] - 0s 3ms/step - loss: 604604800.0000 - mae: 16991.1367 - val_loss: 643989824.0000 - val_mae: 19678.6777\n",
            "Epoch 8/100\n",
            "13/13 [==============================] - 0s 3ms/step - loss: 274541600.0000 - mae: 10879.5000 - val_loss: 201913456.0000 - val_mae: 11001.9004\n",
            "Epoch 9/100\n",
            "13/13 [==============================] - 0s 4ms/step - loss: 93704976.0000 - mae: 6101.9771 - val_loss: 47155744.0000 - val_mae: 5332.9399\n",
            "Epoch 10/100\n",
            "13/13 [==============================] - 0s 4ms/step - loss: 26137012.0000 - mae: 3393.7605 - val_loss: 10739657.0000 - val_mae: 2528.9695\n",
            "Epoch 11/100\n",
            "13/13 [==============================] - 0s 4ms/step - loss: 8066240.0000 - mae: 1896.4288 - val_loss: 2147928.5000 - val_mae: 1146.6273\n",
            "Epoch 12/100\n",
            "13/13 [==============================] - 0s 4ms/step - loss: 1919519.1250 - mae: 950.6622 - val_loss: 606473.0000 - val_mae: 594.0793\n",
            "Epoch 13/100\n",
            "13/13 [==============================] - 0s 3ms/step - loss: 497471.8438 - mae: 461.4795 - val_loss: 164033.5469 - val_mae: 324.2982\n",
            "Epoch 14/100\n",
            "13/13 [==============================] - 0s 4ms/step - loss: 123660.6328 - mae: 250.3754 - val_loss: 65745.8516 - val_mae: 189.6667\n",
            "Epoch 15/100\n",
            "13/13 [==============================] - 0s 3ms/step - loss: 43352.4336 - mae: 137.9042 - val_loss: 19059.4531 - val_mae: 116.6108\n",
            "Epoch 16/100\n",
            "13/13 [==============================] - 0s 3ms/step - loss: 10960.9463 - mae: 78.7007 - val_loss: 8764.1387 - val_mae: 67.4429\n",
            "Epoch 17/100\n",
            "13/13 [==============================] - 0s 3ms/step - loss: 3660.0503 - mae: 45.5304 - val_loss: 1494.9526 - val_mae: 35.8732\n",
            "Epoch 18/100\n",
            "13/13 [==============================] - 0s 3ms/step - loss: 1832.4622 - mae: 35.8058 - val_loss: 1583.8652 - val_mae: 30.0272\n",
            "Epoch 19/100\n",
            "13/13 [==============================] - 0s 4ms/step - loss: 1332.3229 - mae: 30.0782 - val_loss: 500.8447 - val_mae: 18.2540\n",
            "Epoch 20/100\n",
            "13/13 [==============================] - 0s 5ms/step - loss: 1203.2756 - mae: 28.7730 - val_loss: 675.3184 - val_mae: 20.3444\n",
            "Epoch 21/100\n",
            "13/13 [==============================] - 0s 3ms/step - loss: 1166.9602 - mae: 28.7182 - val_loss: 574.5460 - val_mae: 19.3486\n",
            "Epoch 22/100\n",
            "13/13 [==============================] - 0s 3ms/step - loss: 1141.8278 - mae: 28.3848 - val_loss: 628.5975 - val_mae: 19.9081\n",
            "Epoch 23/100\n",
            "13/13 [==============================] - 0s 3ms/step - loss: 1143.1008 - mae: 28.4241 - val_loss: 580.4203 - val_mae: 19.3640\n",
            "Epoch 24/100\n",
            "13/13 [==============================] - 0s 3ms/step - loss: 1143.8486 - mae: 28.4575 - val_loss: 563.2619 - val_mae: 19.2229\n",
            "Epoch 25/100\n",
            "13/13 [==============================] - 0s 3ms/step - loss: 1145.3691 - mae: 28.4986 - val_loss: 599.4164 - val_mae: 19.5463\n",
            "Epoch 26/100\n",
            "13/13 [==============================] - 0s 3ms/step - loss: 1148.6987 - mae: 28.4631 - val_loss: 542.7361 - val_mae: 19.0301\n",
            "Epoch 27/100\n",
            "13/13 [==============================] - 0s 4ms/step - loss: 1146.8279 - mae: 28.4434 - val_loss: 587.2054 - val_mae: 19.4436\n",
            "Epoch 28/100\n",
            "13/13 [==============================] - 0s 5ms/step - loss: 1144.7372 - mae: 28.4101 - val_loss: 570.6927 - val_mae: 19.2275\n",
            "Epoch 29/100\n",
            "13/13 [==============================] - 0s 3ms/step - loss: 1146.5411 - mae: 28.4656 - val_loss: 584.1662 - val_mae: 19.4316\n",
            "Epoch 30/100\n",
            "13/13 [==============================] - 0s 3ms/step - loss: 1145.8625 - mae: 28.5020 - val_loss: 567.9451 - val_mae: 19.2102\n",
            "Epoch 31/100\n",
            "13/13 [==============================] - 0s 3ms/step - loss: 1146.9386 - mae: 28.4693 - val_loss: 587.9818 - val_mae: 19.4356\n",
            "Epoch 32/100\n",
            "13/13 [==============================] - 0s 3ms/step - loss: 1143.8199 - mae: 28.4375 - val_loss: 559.8804 - val_mae: 19.1404\n",
            "Epoch 33/100\n",
            "13/13 [==============================] - 0s 4ms/step - loss: 1147.3888 - mae: 28.4541 - val_loss: 591.2658 - val_mae: 19.4502\n",
            "Epoch 34/100\n",
            "13/13 [==============================] - 0s 3ms/step - loss: 1144.5503 - mae: 28.4478 - val_loss: 591.2658 - val_mae: 19.4502\n",
            "Epoch 35/100\n",
            "13/13 [==============================] - 0s 3ms/step - loss: 1142.9891 - mae: 28.4248 - val_loss: 559.8804 - val_mae: 19.1404\n",
            "Epoch 36/100\n",
            "13/13 [==============================] - 0s 3ms/step - loss: 1149.1947 - mae: 28.5369 - val_loss: 618.8190 - val_mae: 19.7525\n",
            "Epoch 37/100\n",
            "13/13 [==============================] - 0s 3ms/step - loss: 1146.1581 - mae: 28.4382 - val_loss: 587.9460 - val_mae: 19.4352\n",
            "Epoch 38/100\n",
            "13/13 [==============================] - 0s 3ms/step - loss: 1144.4434 - mae: 28.4998 - val_loss: 559.8802 - val_mae: 19.1404\n",
            "Epoch 39/100\n",
            "13/13 [==============================] - 0s 3ms/step - loss: 1177.5363 - mae: 28.6961 - val_loss: 540.2765 - val_mae: 18.9795\n",
            "Epoch 40/100\n",
            "13/13 [==============================] - 0s 3ms/step - loss: 1201.0499 - mae: 29.0577 - val_loss: 667.1541 - val_mae: 20.2952\n",
            "Epoch 41/100\n",
            "13/13 [==============================] - 0s 3ms/step - loss: 1159.0662 - mae: 28.7245 - val_loss: 613.2616 - val_mae: 19.7482\n",
            "Epoch 42/100\n",
            "13/13 [==============================] - 0s 3ms/step - loss: 1158.8527 - mae: 28.7048 - val_loss: 648.7921 - val_mae: 20.0841\n",
            "Epoch 43/100\n",
            "13/13 [==============================] - 0s 3ms/step - loss: 1143.4156 - mae: 28.3991 - val_loss: 523.0933 - val_mae: 18.7544\n",
            "Epoch 44/100\n",
            "13/13 [==============================] - 0s 3ms/step - loss: 1148.1899 - mae: 28.4508 - val_loss: 661.1893 - val_mae: 20.2588\n",
            "Epoch 45/100\n",
            "13/13 [==============================] - 0s 3ms/step - loss: 1156.5138 - mae: 28.6458 - val_loss: 585.7363 - val_mae: 19.4203\n",
            "Epoch 46/100\n",
            "13/13 [==============================] - 0s 3ms/step - loss: 1146.7468 - mae: 28.4068 - val_loss: 570.8836 - val_mae: 19.3176\n",
            "Epoch 47/100\n",
            "13/13 [==============================] - 0s 3ms/step - loss: 1146.4106 - mae: 28.4649 - val_loss: 566.7685 - val_mae: 19.2681\n",
            "Epoch 48/100\n",
            "13/13 [==============================] - 0s 4ms/step - loss: 1165.2065 - mae: 28.5377 - val_loss: 499.3836 - val_mae: 18.2676\n",
            "Epoch 49/100\n",
            "13/13 [==============================] - 0s 3ms/step - loss: 1195.9930 - mae: 28.8961 - val_loss: 688.0730 - val_mae: 20.6029\n",
            "Epoch 50/100\n",
            "13/13 [==============================] - 0s 3ms/step - loss: 1148.3104 - mae: 28.5643 - val_loss: 542.5392 - val_mae: 19.0250\n",
            "Epoch 51/100\n",
            "13/13 [==============================] - 0s 4ms/step - loss: 1142.9724 - mae: 28.5222 - val_loss: 655.0755 - val_mae: 20.1927\n",
            "Epoch 52/100\n",
            "13/13 [==============================] - 0s 3ms/step - loss: 1151.0531 - mae: 28.4793 - val_loss: 569.6489 - val_mae: 19.2574\n",
            "Epoch 53/100\n",
            "13/13 [==============================] - 0s 3ms/step - loss: 1150.4380 - mae: 28.5137 - val_loss: 566.2870 - val_mae: 19.2235\n",
            "Epoch 54/100\n",
            "13/13 [==============================] - 0s 3ms/step - loss: 1166.9976 - mae: 28.6171 - val_loss: 555.4133 - val_mae: 19.0643\n",
            "Epoch 55/100\n",
            "13/13 [==============================] - 0s 3ms/step - loss: 1151.7023 - mae: 28.5192 - val_loss: 917.9610 - val_mae: 22.9782\n",
            "Epoch 56/100\n",
            "13/13 [==============================] - 0s 3ms/step - loss: 1217.1206 - mae: 29.1381 - val_loss: 575.2084 - val_mae: 19.3455\n",
            "Epoch 57/100\n",
            "13/13 [==============================] - 0s 3ms/step - loss: 1150.0862 - mae: 28.4302 - val_loss: 684.4271 - val_mae: 20.5035\n",
            "Epoch 58/100\n",
            "13/13 [==============================] - 0s 3ms/step - loss: 1237.1486 - mae: 29.6197 - val_loss: 607.7034 - val_mae: 19.6834\n",
            "Epoch 59/100\n",
            "13/13 [==============================] - 0s 3ms/step - loss: 1153.3455 - mae: 28.5084 - val_loss: 496.9933 - val_mae: 18.1792\n",
            "Epoch 60/100\n",
            "13/13 [==============================] - 0s 3ms/step - loss: 1217.0017 - mae: 29.3686 - val_loss: 511.6122 - val_mae: 18.6032\n",
            "Epoch 61/100\n",
            "13/13 [==============================] - 0s 3ms/step - loss: 1155.9583 - mae: 28.5134 - val_loss: 681.5950 - val_mae: 20.4845\n",
            "Epoch 62/100\n",
            "13/13 [==============================] - 0s 3ms/step - loss: 1149.3336 - mae: 28.4211 - val_loss: 535.8319 - val_mae: 18.9476\n",
            "Epoch 63/100\n",
            "13/13 [==============================] - 0s 3ms/step - loss: 1159.7018 - mae: 28.6867 - val_loss: 557.4548 - val_mae: 19.1547\n",
            "Epoch 64/100\n",
            "13/13 [==============================] - 0s 3ms/step - loss: 1166.7108 - mae: 28.7918 - val_loss: 636.8065 - val_mae: 19.9430\n",
            "Epoch 65/100\n",
            "13/13 [==============================] - 0s 3ms/step - loss: 1146.2354 - mae: 28.4070 - val_loss: 593.3328 - val_mae: 19.5216\n",
            "Epoch 66/100\n",
            "13/13 [==============================] - 0s 3ms/step - loss: 1170.9312 - mae: 28.9126 - val_loss: 589.4800 - val_mae: 19.4768\n",
            "Epoch 67/100\n",
            "13/13 [==============================] - 0s 4ms/step - loss: 1142.2802 - mae: 28.4341 - val_loss: 704.9869 - val_mae: 20.7292\n",
            "Epoch 68/100\n",
            "13/13 [==============================] - 0s 5ms/step - loss: 1197.9456 - mae: 29.0191 - val_loss: 499.3696 - val_mae: 18.0735\n",
            "Epoch 69/100\n",
            "13/13 [==============================] - 0s 4ms/step - loss: 1230.6042 - mae: 29.1310 - val_loss: 499.4560 - val_mae: 18.0472\n",
            "Epoch 70/100\n",
            "13/13 [==============================] - 0s 3ms/step - loss: 1239.4342 - mae: 28.7963 - val_loss: 525.4202 - val_mae: 18.7920\n",
            "Epoch 71/100\n",
            "13/13 [==============================] - 0s 3ms/step - loss: 1222.9291 - mae: 29.2371 - val_loss: 797.0908 - val_mae: 21.7571\n",
            "Epoch 72/100\n",
            "13/13 [==============================] - 0s 3ms/step - loss: 1146.2817 - mae: 28.3214 - val_loss: 537.3460 - val_mae: 18.9851\n",
            "Epoch 73/100\n",
            "13/13 [==============================] - 0s 4ms/step - loss: 1142.2684 - mae: 28.3076 - val_loss: 588.8563 - val_mae: 19.4674\n",
            "Epoch 74/100\n",
            "13/13 [==============================] - 0s 4ms/step - loss: 1145.1926 - mae: 28.4318 - val_loss: 589.6971 - val_mae: 19.4365\n",
            "Epoch 75/100\n",
            "13/13 [==============================] - 0s 3ms/step - loss: 1141.6296 - mae: 28.1704 - val_loss: 498.9794 - val_mae: 18.3126\n",
            "Epoch 76/100\n",
            "13/13 [==============================] - 0s 3ms/step - loss: 1209.9272 - mae: 29.1460 - val_loss: 497.5407 - val_mae: 18.1904\n",
            "Epoch 77/100\n",
            "13/13 [==============================] - 0s 3ms/step - loss: 1159.8458 - mae: 28.3653 - val_loss: 617.9055 - val_mae: 19.7628\n",
            "Epoch 78/100\n",
            "13/13 [==============================] - 0s 3ms/step - loss: 1159.4591 - mae: 28.5944 - val_loss: 591.3375 - val_mae: 19.4222\n",
            "Epoch 79/100\n",
            "13/13 [==============================] - 0s 4ms/step - loss: 1140.7180 - mae: 28.3911 - val_loss: 640.4965 - val_mae: 19.9767\n",
            "Epoch 80/100\n",
            "13/13 [==============================] - 0s 3ms/step - loss: 1151.0988 - mae: 28.5914 - val_loss: 511.8307 - val_mae: 18.6360\n",
            "Epoch 81/100\n",
            "13/13 [==============================] - 0s 3ms/step - loss: 1164.9052 - mae: 28.5676 - val_loss: 509.1594 - val_mae: 18.5193\n",
            "Epoch 82/100\n",
            "13/13 [==============================] - 0s 3ms/step - loss: 1187.3074 - mae: 28.7673 - val_loss: 494.0448 - val_mae: 18.0865\n",
            "Epoch 83/100\n",
            "13/13 [==============================] - 0s 3ms/step - loss: 1184.6714 - mae: 28.7036 - val_loss: 539.1439 - val_mae: 19.0067\n",
            "Epoch 84/100\n",
            "13/13 [==============================] - 0s 3ms/step - loss: 1144.2817 - mae: 28.4681 - val_loss: 564.5152 - val_mae: 19.2587\n",
            "Epoch 85/100\n",
            "13/13 [==============================] - 0s 3ms/step - loss: 1145.3524 - mae: 28.4622 - val_loss: 574.5564 - val_mae: 19.3400\n",
            "Epoch 86/100\n",
            "13/13 [==============================] - 0s 3ms/step - loss: 1144.8462 - mae: 28.4331 - val_loss: 571.5875 - val_mae: 19.3126\n",
            "Epoch 87/100\n",
            "13/13 [==============================] - 0s 3ms/step - loss: 1183.8273 - mae: 28.7330 - val_loss: 527.9222 - val_mae: 18.9033\n",
            "Epoch 88/100\n",
            "13/13 [==============================] - 0s 4ms/step - loss: 1153.1720 - mae: 28.2880 - val_loss: 503.2876 - val_mae: 18.4342\n",
            "Epoch 89/100\n",
            "13/13 [==============================] - 0s 4ms/step - loss: 1173.1625 - mae: 28.2425 - val_loss: 750.0450 - val_mae: 21.2727\n",
            "Epoch 90/100\n",
            "13/13 [==============================] - 0s 4ms/step - loss: 1231.0432 - mae: 29.3467 - val_loss: 805.5555 - val_mae: 21.8133\n",
            "Epoch 91/100\n",
            "13/13 [==============================] - 0s 4ms/step - loss: 1154.2904 - mae: 28.4862 - val_loss: 672.3084 - val_mae: 20.3555\n",
            "Epoch 92/100\n",
            "13/13 [==============================] - 0s 3ms/step - loss: 1178.1212 - mae: 28.8403 - val_loss: 729.7728 - val_mae: 20.9998\n",
            "Epoch 93/100\n",
            "13/13 [==============================] - 0s 3ms/step - loss: 1188.6830 - mae: 29.0856 - val_loss: 605.2807 - val_mae: 19.6576\n",
            "Epoch 94/100\n",
            "13/13 [==============================] - 0s 3ms/step - loss: 1204.0070 - mae: 28.9110 - val_loss: 494.8100 - val_mae: 18.1937\n",
            "Epoch 95/100\n",
            "13/13 [==============================] - 0s 3ms/step - loss: 1180.5520 - mae: 28.9131 - val_loss: 595.5609 - val_mae: 19.5189\n",
            "Epoch 96/100\n",
            "13/13 [==============================] - 0s 3ms/step - loss: 1234.3901 - mae: 29.6241 - val_loss: 832.6631 - val_mae: 22.0584\n",
            "Epoch 97/100\n",
            "13/13 [==============================] - 0s 4ms/step - loss: 1246.0305 - mae: 29.5154 - val_loss: 845.6813 - val_mae: 22.1907\n",
            "Epoch 98/100\n",
            "13/13 [==============================] - 0s 3ms/step - loss: 1186.6986 - mae: 28.8803 - val_loss: 550.1807 - val_mae: 19.0858\n",
            "Epoch 99/100\n",
            "13/13 [==============================] - 0s 3ms/step - loss: 1180.2742 - mae: 28.9462 - val_loss: 548.0883 - val_mae: 19.0462\n",
            "Epoch 100/100\n",
            "13/13 [==============================] - 0s 3ms/step - loss: 1229.2188 - mae: 29.6154 - val_loss: 662.6481 - val_mae: 20.2124\n",
            "Model: \"sequential\"\n",
            "_________________________________________________________________\n",
            " Layer (type)                Output Shape              Param #   \n",
            "=================================================================\n",
            " dense (Dense)               (None, 3)                 36        \n",
            "                                                                 \n",
            " dense_1 (Dense)             (None, 1)                 4         \n",
            "                                                                 \n",
            "=================================================================\n",
            "Total params: 40\n",
            "Trainable params: 40\n",
            "Non-trainable params: 0\n",
            "_________________________________________________________________\n"
          ]
        }
      ],
      "source": [
        "keras.backend.clear_session()\n",
        "# # # # ПРОЕКТИРОВАНИЕ МОДЕЛИ # # # # # # # # # # # # # # # # # # # # #\n",
        "#   ПРОЕКТИРУЕМ МОДЕЛЬ\n",
        "opt = tensorflow.keras.optimizers.Adam(\n",
        "    learning_rate=0.006,\n",
        "    beta_1=0.9,\n",
        "    beta_2=0.999,\n",
        "    epsilon=1e-07,\n",
        "    amsgrad=False,\n",
        "    name=\"Adam\")\n",
        "\n",
        "model = Sequential()\n",
        "model.add(Dense(3, activation=\"relu\"))\n",
        "model.add(Dense(1, activation=\"linear\"))\n",
        "model.compile(optimizer=opt, loss=\"mse\", metrics=[\"mae\"])\n",
        "\n",
        "# # # # ОБУЧЕНИЕ НЕЙРОСЕТИ # # # # # # # # # # # # # # # # # # # # # # #\n",
        "history = model.fit(x_train, y_train, validation_split=0.1, verbose=1, epochs=100, shuffle=True)\n",
        "model.summary()"
      ]
    },
    {
      "cell_type": "code",
      "execution_count": null,
      "metadata": {
        "colab": {
          "base_uri": "https://localhost:8080/",
          "height": 916
        },
        "id": "Hm2k4qYZ-uZO",
        "outputId": "36cfafed-a805-4dde-95ba-5c7a2f82de66"
      },
      "outputs": [
        {
          "name": "stdout",
          "output_type": "stream",
          "text": [
            "Epoch 1/40\n",
            "13/13 [==============================] - 1s 15ms/step - loss: 6138.9224 - mae: 75.5141 - val_loss: 3225.2952 - val_mae: 54.1918\n",
            "Epoch 2/40\n",
            "13/13 [==============================] - 0s 4ms/step - loss: 5816.3950 - mae: 73.3495 - val_loss: 3004.5144 - val_mae: 52.1149\n",
            "Epoch 3/40\n",
            "13/13 [==============================] - 0s 3ms/step - loss: 5509.8203 - mae: 71.2388 - val_loss: 2781.1067 - val_mae: 49.9255\n",
            "Epoch 4/40\n",
            "13/13 [==============================] - 0s 3ms/step - loss: 5192.5630 - mae: 68.9735 - val_loss: 2554.2834 - val_mae: 47.5998\n",
            "Epoch 5/40\n",
            "13/13 [==============================] - 0s 4ms/step - loss: 4876.7783 - mae: 66.6545 - val_loss: 2341.9607 - val_mae: 45.3331\n",
            "Epoch 6/40\n",
            "13/13 [==============================] - 0s 4ms/step - loss: 4584.8125 - mae: 64.4306 - val_loss: 2150.5435 - val_mae: 43.3535\n",
            "Epoch 7/40\n",
            "13/13 [==============================] - 0s 3ms/step - loss: 4319.9370 - mae: 62.3554 - val_loss: 1978.6907 - val_mae: 41.4876\n",
            "Epoch 8/40\n",
            "13/13 [==============================] - 0s 3ms/step - loss: 4075.9790 - mae: 60.3861 - val_loss: 1824.7573 - val_mae: 39.7339\n",
            "Epoch 9/40\n",
            "13/13 [==============================] - 0s 3ms/step - loss: 3854.1121 - mae: 58.5239 - val_loss: 1683.7399 - val_mae: 38.0484\n",
            "Epoch 10/40\n",
            "13/13 [==============================] - 0s 4ms/step - loss: 3644.2202 - mae: 56.7439 - val_loss: 1556.4568 - val_mae: 36.4523\n",
            "Epoch 11/40\n",
            "13/13 [==============================] - 0s 3ms/step - loss: 3452.2407 - mae: 55.0550 - val_loss: 1438.0446 - val_mae: 35.1016\n",
            "Epoch 12/40\n",
            "13/13 [==============================] - 0s 4ms/step - loss: 3270.5183 - mae: 53.4232 - val_loss: 1328.8513 - val_mae: 33.8023\n",
            "Epoch 13/40\n",
            "13/13 [==============================] - 0s 3ms/step - loss: 3098.2515 - mae: 51.8472 - val_loss: 1228.7888 - val_mae: 32.5503\n",
            "Epoch 14/40\n",
            " 1/13 [=>............................] - ETA: 0s - loss: 3163.6553 - mae: 52.0065"
          ]
        },
        {
          "ename": "KeyboardInterrupt",
          "evalue": "ignored",
          "output_type": "error",
          "traceback": [
            "\u001b[0;31m---------------------------------------------------------------------------\u001b[0m",
            "\u001b[0;31mKeyboardInterrupt\u001b[0m                         Traceback (most recent call last)",
            "\u001b[0;32m<ipython-input-65-dae65f6c56dc>\u001b[0m in \u001b[0;36m<module>\u001b[0;34m()\u001b[0m\n\u001b[1;32m     19\u001b[0m \u001b[0;31m#  mae - mean absolute error (Средняя абсолютная ошибка)\u001b[0m\u001b[0;34m\u001b[0m\u001b[0;34m\u001b[0m\u001b[0;34m\u001b[0m\u001b[0m\n\u001b[1;32m     20\u001b[0m \u001b[0;31m# # # #     ОБУЧЕНИЕ НЕЙРОСЕТИ    # # # # # # # # # # # # # # # # # # # # # # #\u001b[0m\u001b[0;34m\u001b[0m\u001b[0;34m\u001b[0m\u001b[0;34m\u001b[0m\u001b[0m\n\u001b[0;32m---> 21\u001b[0;31m \u001b[0mhistory\u001b[0m \u001b[0;34m=\u001b[0m \u001b[0mmodel\u001b[0m\u001b[0;34m.\u001b[0m\u001b[0mfit\u001b[0m\u001b[0;34m(\u001b[0m\u001b[0mx_train\u001b[0m\u001b[0;34m,\u001b[0m \u001b[0my_train\u001b[0m\u001b[0;34m,\u001b[0m  \u001b[0mvalidation_split\u001b[0m\u001b[0;34m=\u001b[0m\u001b[0;36m0.1\u001b[0m\u001b[0;34m,\u001b[0m \u001b[0mverbose\u001b[0m\u001b[0;34m=\u001b[0m\u001b[0;36m1\u001b[0m\u001b[0;34m,\u001b[0m \u001b[0mepochs\u001b[0m\u001b[0;34m=\u001b[0m\u001b[0;36m40\u001b[0m\u001b[0;34m)\u001b[0m\u001b[0;34m\u001b[0m\u001b[0;34m\u001b[0m\u001b[0m\n\u001b[0m\u001b[1;32m     22\u001b[0m \u001b[0;31m# history = model.fit(x_train, y_train, epochs=10, batch_size=1, verbose=1)\u001b[0m\u001b[0;34m\u001b[0m\u001b[0;34m\u001b[0m\u001b[0;34m\u001b[0m\u001b[0m\n",
            "\u001b[0;32m/usr/local/lib/python3.7/dist-packages/keras/utils/traceback_utils.py\u001b[0m in \u001b[0;36merror_handler\u001b[0;34m(*args, **kwargs)\u001b[0m\n\u001b[1;32m     62\u001b[0m     \u001b[0mfiltered_tb\u001b[0m \u001b[0;34m=\u001b[0m \u001b[0;32mNone\u001b[0m\u001b[0;34m\u001b[0m\u001b[0;34m\u001b[0m\u001b[0m\n\u001b[1;32m     63\u001b[0m     \u001b[0;32mtry\u001b[0m\u001b[0;34m:\u001b[0m\u001b[0;34m\u001b[0m\u001b[0;34m\u001b[0m\u001b[0m\n\u001b[0;32m---> 64\u001b[0;31m       \u001b[0;32mreturn\u001b[0m \u001b[0mfn\u001b[0m\u001b[0;34m(\u001b[0m\u001b[0;34m*\u001b[0m\u001b[0margs\u001b[0m\u001b[0;34m,\u001b[0m \u001b[0;34m**\u001b[0m\u001b[0mkwargs\u001b[0m\u001b[0;34m)\u001b[0m\u001b[0;34m\u001b[0m\u001b[0;34m\u001b[0m\u001b[0m\n\u001b[0m\u001b[1;32m     65\u001b[0m     \u001b[0;32mexcept\u001b[0m \u001b[0mException\u001b[0m \u001b[0;32mas\u001b[0m \u001b[0me\u001b[0m\u001b[0;34m:\u001b[0m  \u001b[0;31m# pylint: disable=broad-except\u001b[0m\u001b[0;34m\u001b[0m\u001b[0;34m\u001b[0m\u001b[0m\n\u001b[1;32m     66\u001b[0m       \u001b[0mfiltered_tb\u001b[0m \u001b[0;34m=\u001b[0m \u001b[0m_process_traceback_frames\u001b[0m\u001b[0;34m(\u001b[0m\u001b[0me\u001b[0m\u001b[0;34m.\u001b[0m\u001b[0m__traceback__\u001b[0m\u001b[0;34m)\u001b[0m\u001b[0;34m\u001b[0m\u001b[0;34m\u001b[0m\u001b[0m\n",
            "\u001b[0;32m/usr/local/lib/python3.7/dist-packages/keras/engine/training.py\u001b[0m in \u001b[0;36mfit\u001b[0;34m(self, x, y, batch_size, epochs, verbose, callbacks, validation_split, validation_data, shuffle, class_weight, sample_weight, initial_epoch, steps_per_epoch, validation_steps, validation_batch_size, validation_freq, max_queue_size, workers, use_multiprocessing)\u001b[0m\n\u001b[1;32m   1382\u001b[0m                 _r=1):\n\u001b[1;32m   1383\u001b[0m               \u001b[0mcallbacks\u001b[0m\u001b[0;34m.\u001b[0m\u001b[0mon_train_batch_begin\u001b[0m\u001b[0;34m(\u001b[0m\u001b[0mstep\u001b[0m\u001b[0;34m)\u001b[0m\u001b[0;34m\u001b[0m\u001b[0;34m\u001b[0m\u001b[0m\n\u001b[0;32m-> 1384\u001b[0;31m               \u001b[0mtmp_logs\u001b[0m \u001b[0;34m=\u001b[0m \u001b[0mself\u001b[0m\u001b[0;34m.\u001b[0m\u001b[0mtrain_function\u001b[0m\u001b[0;34m(\u001b[0m\u001b[0miterator\u001b[0m\u001b[0;34m)\u001b[0m\u001b[0;34m\u001b[0m\u001b[0;34m\u001b[0m\u001b[0m\n\u001b[0m\u001b[1;32m   1385\u001b[0m               \u001b[0;32mif\u001b[0m \u001b[0mdata_handler\u001b[0m\u001b[0;34m.\u001b[0m\u001b[0mshould_sync\u001b[0m\u001b[0;34m:\u001b[0m\u001b[0;34m\u001b[0m\u001b[0;34m\u001b[0m\u001b[0m\n\u001b[1;32m   1386\u001b[0m                 \u001b[0mcontext\u001b[0m\u001b[0;34m.\u001b[0m\u001b[0masync_wait\u001b[0m\u001b[0;34m(\u001b[0m\u001b[0;34m)\u001b[0m\u001b[0;34m\u001b[0m\u001b[0;34m\u001b[0m\u001b[0m\n",
            "\u001b[0;32m/usr/local/lib/python3.7/dist-packages/tensorflow/python/util/traceback_utils.py\u001b[0m in \u001b[0;36merror_handler\u001b[0;34m(*args, **kwargs)\u001b[0m\n\u001b[1;32m    148\u001b[0m     \u001b[0mfiltered_tb\u001b[0m \u001b[0;34m=\u001b[0m \u001b[0;32mNone\u001b[0m\u001b[0;34m\u001b[0m\u001b[0;34m\u001b[0m\u001b[0m\n\u001b[1;32m    149\u001b[0m     \u001b[0;32mtry\u001b[0m\u001b[0;34m:\u001b[0m\u001b[0;34m\u001b[0m\u001b[0;34m\u001b[0m\u001b[0m\n\u001b[0;32m--> 150\u001b[0;31m       \u001b[0;32mreturn\u001b[0m \u001b[0mfn\u001b[0m\u001b[0;34m(\u001b[0m\u001b[0;34m*\u001b[0m\u001b[0margs\u001b[0m\u001b[0;34m,\u001b[0m \u001b[0;34m**\u001b[0m\u001b[0mkwargs\u001b[0m\u001b[0;34m)\u001b[0m\u001b[0;34m\u001b[0m\u001b[0;34m\u001b[0m\u001b[0m\n\u001b[0m\u001b[1;32m    151\u001b[0m     \u001b[0;32mexcept\u001b[0m \u001b[0mException\u001b[0m \u001b[0;32mas\u001b[0m \u001b[0me\u001b[0m\u001b[0;34m:\u001b[0m\u001b[0;34m\u001b[0m\u001b[0;34m\u001b[0m\u001b[0m\n\u001b[1;32m    152\u001b[0m       \u001b[0mfiltered_tb\u001b[0m \u001b[0;34m=\u001b[0m \u001b[0m_process_traceback_frames\u001b[0m\u001b[0;34m(\u001b[0m\u001b[0me\u001b[0m\u001b[0;34m.\u001b[0m\u001b[0m__traceback__\u001b[0m\u001b[0;34m)\u001b[0m\u001b[0;34m\u001b[0m\u001b[0;34m\u001b[0m\u001b[0m\n",
            "\u001b[0;32m/usr/local/lib/python3.7/dist-packages/tensorflow/python/eager/def_function.py\u001b[0m in \u001b[0;36m__call__\u001b[0;34m(self, *args, **kwds)\u001b[0m\n\u001b[1;32m    913\u001b[0m \u001b[0;34m\u001b[0m\u001b[0m\n\u001b[1;32m    914\u001b[0m       \u001b[0;32mwith\u001b[0m \u001b[0mOptionalXlaContext\u001b[0m\u001b[0;34m(\u001b[0m\u001b[0mself\u001b[0m\u001b[0;34m.\u001b[0m\u001b[0m_jit_compile\u001b[0m\u001b[0;34m)\u001b[0m\u001b[0;34m:\u001b[0m\u001b[0;34m\u001b[0m\u001b[0;34m\u001b[0m\u001b[0m\n\u001b[0;32m--> 915\u001b[0;31m         \u001b[0mresult\u001b[0m \u001b[0;34m=\u001b[0m \u001b[0mself\u001b[0m\u001b[0;34m.\u001b[0m\u001b[0m_call\u001b[0m\u001b[0;34m(\u001b[0m\u001b[0;34m*\u001b[0m\u001b[0margs\u001b[0m\u001b[0;34m,\u001b[0m \u001b[0;34m**\u001b[0m\u001b[0mkwds\u001b[0m\u001b[0;34m)\u001b[0m\u001b[0;34m\u001b[0m\u001b[0;34m\u001b[0m\u001b[0m\n\u001b[0m\u001b[1;32m    916\u001b[0m \u001b[0;34m\u001b[0m\u001b[0m\n\u001b[1;32m    917\u001b[0m       \u001b[0mnew_tracing_count\u001b[0m \u001b[0;34m=\u001b[0m \u001b[0mself\u001b[0m\u001b[0;34m.\u001b[0m\u001b[0mexperimental_get_tracing_count\u001b[0m\u001b[0;34m(\u001b[0m\u001b[0;34m)\u001b[0m\u001b[0;34m\u001b[0m\u001b[0;34m\u001b[0m\u001b[0m\n",
            "\u001b[0;32m/usr/local/lib/python3.7/dist-packages/tensorflow/python/eager/def_function.py\u001b[0m in \u001b[0;36m_call\u001b[0;34m(self, *args, **kwds)\u001b[0m\n\u001b[1;32m    945\u001b[0m       \u001b[0;31m# In this case we have created variables on the first call, so we run the\u001b[0m\u001b[0;34m\u001b[0m\u001b[0;34m\u001b[0m\u001b[0;34m\u001b[0m\u001b[0m\n\u001b[1;32m    946\u001b[0m       \u001b[0;31m# defunned version which is guaranteed to never create variables.\u001b[0m\u001b[0;34m\u001b[0m\u001b[0;34m\u001b[0m\u001b[0;34m\u001b[0m\u001b[0m\n\u001b[0;32m--> 947\u001b[0;31m       \u001b[0;32mreturn\u001b[0m \u001b[0mself\u001b[0m\u001b[0;34m.\u001b[0m\u001b[0m_stateless_fn\u001b[0m\u001b[0;34m(\u001b[0m\u001b[0;34m*\u001b[0m\u001b[0margs\u001b[0m\u001b[0;34m,\u001b[0m \u001b[0;34m**\u001b[0m\u001b[0mkwds\u001b[0m\u001b[0;34m)\u001b[0m  \u001b[0;31m# pylint: disable=not-callable\u001b[0m\u001b[0;34m\u001b[0m\u001b[0;34m\u001b[0m\u001b[0m\n\u001b[0m\u001b[1;32m    948\u001b[0m     \u001b[0;32melif\u001b[0m \u001b[0mself\u001b[0m\u001b[0;34m.\u001b[0m\u001b[0m_stateful_fn\u001b[0m \u001b[0;32mis\u001b[0m \u001b[0;32mnot\u001b[0m \u001b[0;32mNone\u001b[0m\u001b[0;34m:\u001b[0m\u001b[0;34m\u001b[0m\u001b[0;34m\u001b[0m\u001b[0m\n\u001b[1;32m    949\u001b[0m       \u001b[0;31m# Release the lock early so that multiple threads can perform the call\u001b[0m\u001b[0;34m\u001b[0m\u001b[0;34m\u001b[0m\u001b[0;34m\u001b[0m\u001b[0m\n",
            "\u001b[0;32m/usr/local/lib/python3.7/dist-packages/tensorflow/python/eager/function.py\u001b[0m in \u001b[0;36m__call__\u001b[0;34m(self, *args, **kwargs)\u001b[0m\n\u001b[1;32m   2955\u001b[0m        filtered_flat_args) = self._maybe_define_function(args, kwargs)\n\u001b[1;32m   2956\u001b[0m     return graph_function._call_flat(\n\u001b[0;32m-> 2957\u001b[0;31m         filtered_flat_args, captured_inputs=graph_function.captured_inputs)  # pylint: disable=protected-access\n\u001b[0m\u001b[1;32m   2958\u001b[0m \u001b[0;34m\u001b[0m\u001b[0m\n\u001b[1;32m   2959\u001b[0m   \u001b[0;34m@\u001b[0m\u001b[0mproperty\u001b[0m\u001b[0;34m\u001b[0m\u001b[0;34m\u001b[0m\u001b[0m\n",
            "\u001b[0;32m/usr/local/lib/python3.7/dist-packages/tensorflow/python/eager/function.py\u001b[0m in \u001b[0;36m_call_flat\u001b[0;34m(self, args, captured_inputs, cancellation_manager)\u001b[0m\n\u001b[1;32m   1780\u001b[0m               f\"{type(arg_piece).__name__} value {arg_piece}.\")\n\u001b[1;32m   1781\u001b[0m \u001b[0;34m\u001b[0m\u001b[0m\n\u001b[0;32m-> 1782\u001b[0;31m   \u001b[0;32mdef\u001b[0m \u001b[0m_call_flat\u001b[0m\u001b[0;34m(\u001b[0m\u001b[0mself\u001b[0m\u001b[0;34m,\u001b[0m \u001b[0margs\u001b[0m\u001b[0;34m,\u001b[0m \u001b[0mcaptured_inputs\u001b[0m\u001b[0;34m,\u001b[0m \u001b[0mcancellation_manager\u001b[0m\u001b[0;34m=\u001b[0m\u001b[0;32mNone\u001b[0m\u001b[0;34m)\u001b[0m\u001b[0;34m:\u001b[0m\u001b[0;34m\u001b[0m\u001b[0;34m\u001b[0m\u001b[0m\n\u001b[0m\u001b[1;32m   1783\u001b[0m     \"\"\"Executes the wrapped function.\n\u001b[1;32m   1784\u001b[0m \u001b[0;34m\u001b[0m\u001b[0m\n",
            "\u001b[0;31mKeyboardInterrupt\u001b[0m: "
          ]
        }
      ],
      "source": [
        "keras.backend.clear_session()\n",
        "# # # #     ПРОЕКТИРОВАНИЕ МОДЕЛИ    # # # # # # # # # # # # # # # # # # # # # # #\n",
        "\n",
        "#   ПРОЕКТИРУЕМ МОДЕЛЬ\n",
        "opt = tensorflow.keras.optimizers.Adam(\n",
        "    learning_rate=0.006,\n",
        "    beta_1=0.9,\n",
        "    beta_2=0.999,\n",
        "    epsilon=1e-07,\n",
        "    amsgrad=False,\n",
        "    name=\"Adam\")\n",
        "\n",
        "model =Sequential()\n",
        "model.add(Dense(5, activation=\"tanh\"))\n",
        "model.add(Dense(20, activation=\"tanh\"))\n",
        "model.add(Dense(1))\n",
        "\n",
        "model.compile(optimizer=opt, loss=\"mse\", metrics=[\"mae\"])\n",
        "#  mae - mean absolute error (Средняя абсолютная ошибка)\n",
        "# # # #     ОБУЧЕНИЕ НЕЙРОСЕТИ    # # # # # # # # # # # # # # # # # # # # # # #\n",
        "history = model.fit(x_train, y_train,  validation_split=0.1, verbose=1, epochs=40)\n",
        "# history = model.fit(x_train, y_train, epochs=10, batch_size=1, verbose=1)"
      ]
    },
    {
      "cell_type": "code",
      "execution_count": null,
      "metadata": {
        "colab": {
          "base_uri": "https://localhost:8080/",
          "height": 331
        },
        "id": "7SPU17eG9MVz",
        "outputId": "658ced93-f66a-4d11-ca4d-3714dce1e73b"
      },
      "outputs": [
        {
          "name": "stdout",
          "output_type": "stream",
          "text": [
            "2/2 [==============================] - 0s 4ms/step - loss: 1104.6519 - mae: 27.6727\n",
            "\n",
            "MAPE: 27.67%\n"
          ]
        },
        {
          "data": {
            "image/png": "[encoded data removed]",
            "text/plain": [
              "<Figure size 432x288 with 1 Axes>"
            ]
          },
          "metadata": {},
          "output_type": "display_data"
        }
      ],
      "source": [
        "scores = model.evaluate(x_test, y_test)\n",
        "print('\\nMAPE: %.2f%%' % (scores[1]))\n",
        "\n",
        "plt.plot(history.history['loss'])\n",
        "plt.plot(history.history['val_loss'])\n",
        "plt.grid(True)\n",
        "plt.show()"
      ]
    },
    {
      "cell_type": "code",
      "execution_count": null,
      "metadata": {
        "colab": {
          "base_uri": "https://localhost:8080/",
          "height": 449
        },
        "id": "Y4GbFVIM9X4R",
        "outputId": "0169dac8-0471-49f9-bfd2-fb3e4919cdad"
      },
      "outputs": [
        {
          "data": {
            "image/png": "[encoded data removed]",
            "text/plain": [
              "<Figure size 864x432 with 1 Axes>"
            ]
          },
          "metadata": {},
          "output_type": "display_data"
        }
      ],
      "source": [
        "predictions = model.predict(x_test)\n",
        "def GlDiagram(n):\n",
        "  # построение графика сравнения прогнозируемых значений и тестовых (фактических) значений температуры\n",
        "  # Входные данные: y_test, predition \n",
        "  # n - количество выводимых значений\n",
        " \n",
        "    %matplotlib inline\n",
        "    import numpy as np\n",
        "    import matplotlib.pyplot as plt\n",
        " \n",
        "    #  Задаем смещение равное половине ширины прямоугольника:\n",
        "    x1 = np.arange(1, n) - 0.2\n",
        "    x2 = np.arange(1, n) + 0.2\n",
        " \n",
        "    #y1 = Ytest.to_numpy().flatten()[:n-1]\n",
        "    #y2 = predition.flatten()[:n-1]\n",
        "    \n",
        "    y1 = y_test.flatten()[:n-1]\n",
        "    y2 = predictions.flatten()[:n-1] \n",
        "\n",
        "   \n",
        "    fig, ax = plt.subplots()\n",
        " \n",
        "    ax.bar(x1, y1, width = 0.4)\n",
        "    ax.bar(x2, y2, width = 0.4)\n",
        " \n",
        "    ax.set_facecolor('seashell')\n",
        "    fig.set_figwidth(12)    #  ширина Figure\n",
        "    fig.set_figheight(6)    #  высота Figure\n",
        "    fig.set_facecolor('floralwhite')\n",
        "    fig.suptitle(\"Сравнение прогнозного значения и фактического значения результатов выборов\")\n",
        "    fig.legend([\"Фактические значения D\", \"Прогноз Y\"], loc = \"lower center\")\n",
        "    plt.xlim([0,n])\n",
        "    plt.show()\n",
        " \n",
        "# Запуск процедуры:\n",
        "GlDiagram(n=32)"
      ]
    },
    {
      "cell_type": "code",
      "execution_count": null,
      "metadata": {
        "id": "TaxV7xDIJZX7"
      },
      "outputs": [],
      "source": [
        "predictions = model.predict(x_test)"
      ]
    },
    {
      "cell_type": "code",
      "execution_count": null,
      "metadata": {
        "colab": {
          "base_uri": "https://localhost:8080/"
        },
        "id": "RGkzsPoyfQb2",
        "outputId": "19b328a2-e673-48a1-eed9-2ba460150f2a"
      },
      "outputs": [
        {
          "name": "stdout",
          "output_type": "stream",
          "text": [
            "r2= -1.9237518764994697\n"
          ]
        }
      ],
      "source": [
        "# Вычисление коэффициент детерминации\n",
        "from sklearn.metrics import r2_score\n",
        "r2 = r2_score(y_test, predictions)\n",
        "print('r2=', r2)"
      ]
    },
    {
      "cell_type": "code",
      "execution_count": null,
      "metadata": {
        "colab": {
          "base_uri": "https://localhost:8080/"
        },
        "id": "K1XyA55CFQ5n",
        "outputId": "344cecc4-0a73-4daf-c7b8-d0e1f43a6d47"
      },
      "outputs": [
        {
          "name": "stdout",
          "output_type": "stream",
          "text": [
            "(63,)\n",
            "(63, 1)\n",
            "max_error = 84.18659496307373\n"
          ]
        }
      ],
      "source": [
        "# Вычисление абсолютной максимальной ошибки (max_error)\n",
        "from sklearn.metrics import max_error\n",
        "print(y_test.shape)\n",
        "print(predictions.shape)\n",
        "max_error = max_error(y_test, predictions)\n",
        "print('max_error =', max_error)"
      ]
    },
    {
      "cell_type": "code",
      "execution_count": null,
      "metadata": {
        "colab": {
          "base_uri": "https://localhost:8080/"
        },
        "id": "L7Muajh7FSwr",
        "outputId": "d99b317f-27d8-40bc-8945-cc0438f18f44"
      },
      "outputs": [
        {
          "name": "stdout",
          "output_type": "stream",
          "text": [
            "mean_absolute_error = 27.624242343599835\n"
          ]
        }
      ],
      "source": [
        "#  Вычисление средней абсолютной ощибки (mean_absolute_error (MAE))\n",
        "from sklearn.metrics import mean_absolute_error\n",
        "mean_absolute_error = mean_absolute_error(y_test, predictions)\n",
        "print('mean_absolute_error =', mean_absolute_error)"
      ]
    },
    {
      "cell_type": "code",
      "execution_count": null,
      "metadata": {
        "colab": {
          "base_uri": "https://localhost:8080/"
        },
        "id": "_Hoxtgo7FUbI",
        "outputId": "712f374e-0312-4179-af91-96201945f74d"
      },
      "outputs": [
        {
          "name": "stdout",
          "output_type": "stream",
          "text": [
            "median_absolute_error= 23.72480010986328\n"
          ]
        }
      ],
      "source": [
        "#  Вычисление медианной абсолютной ощибки (median_absolute_error)\n",
        "from sklearn.metrics import median_absolute_error\n",
        "median_absolute_error = median_absolute_error(y_test, predictions)\n",
        "print (\"median_absolute_error=\", median_absolute_error)"
      ]
    },
    {
      "cell_type": "code",
      "execution_count": null,
      "metadata": {
        "colab": {
          "base_uri": "https://localhost:8080/"
        },
        "id": "FlzNV99GFWWf",
        "outputId": "23d2b862-d87a-450e-9cb6-dcb0ae108828"
      },
      "outputs": [
        {
          "name": "stdout",
          "output_type": "stream",
          "text": [
            "MSE= 1103.3498515043855\n",
            "RMSE= 33.216710425693655\n"
          ]
        }
      ],
      "source": [
        "# Вычисление среднекваратичной ошибки (MSE и RMSE)\n",
        "from sklearn.metrics import mean_squared_error\n",
        "MSE = mean_squared_error(y_test, predictions)\n",
        "print('MSE=', MSE)\n",
        "\n",
        "from math import sqrt\n",
        "RMSE = sqrt(mean_squared_error(y_test, predictions))\n",
        "print('RMSE=', RMSE)"
      ]
    },
    {
      "cell_type": "markdown",
      "metadata": {
        "id": "7bo9Zkt9FcOU"
      },
      "source": [
        "## **Сохранение сети**"
      ]
    },
    {
      "cell_type": "code",
      "execution_count": null,
      "metadata": {
        "id": "gfe5aCWR9e16"
      },
      "outputs": [],
      "source": [
        "model.save('NeuroSet', save_format='h5')"
      ]
    },
    {
      "cell_type": "code",
      "execution_count": null,
      "metadata": {
        "id": "jGyAV2dpKQru"
      },
      "outputs": [],
      "source": [
        "#  Загрузка нейросети из файла\n",
        "from tensorflow.keras.models import load_model\n",
        "model = load_model('NeuroSet')\n",
        "\n",
        "# Применение сети\n",
        "# print(x_test)\n",
        "# print(type(x_test))\n",
        "# predictions = model.predict(x_test)\n",
        "# print('y_test')\n",
        "# print(y_test)\n",
        "# print('predictions')\n",
        "# print(predictions)"
      ]
    },
    {
      "cell_type": "code",
      "execution_count": null,
      "metadata": {
        "colab": {
          "base_uri": "https://localhost:8080/"
        },
        "id": "ESjFbldaLzad",
        "outputId": "13672cda-4142-4840-83df-bff34bf456d9"
      },
      "outputs": [
        {
          "output_type": "stream",
          "name": "stdout",
          "text": [
            "[[       6       84        4        0        1        1        0        0\n",
            "         4        1 10000000]\n",
            " [       6       84        4        0        1        1        0        0\n",
            "         4        1 10000000]]\n",
            "<class 'numpy.ndarray'>\n"
          ]
        }
      ],
      "source": [
        "\n",
        "data = numpy.array([[6, 84,  4,  0,  1, 1, 0, 0, 4, 1, 10000000], [6, 84,  4,  0,  1, 1, 0, 0, 4, 1, 10000000]])\n",
        "\n",
        "print(data)\n",
        "print(type(data))\n",
        "predictions = model.predict(data)"
      ]
    }
  ],
  "metadata": {
    "colab": {
      "collapsed_sections": [],
      "name": "Neural-network.ipynb",
      "provenance": [],
      "mount_file_id": "17ERg4bK8ZQbvTUOKFroUUHAzsXaxhQdc",
      "authorship_tag": "ABX9TyMDg1IxtNNbl3r3RmZ/m7hY",
      "include_colab_link": true
    },
    "kernelspec": {
      "display_name": "Python 3",
      "name": "python3"
    },
    "language_info": {
      "name": "python"
    }
  },
  "nbformat": 4,
  "nbformat_minor": 0
}